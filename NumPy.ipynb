{
 "cells": [
  {
   "cell_type": "code",
   "execution_count": 3,
   "id": "85dcbdc9-f744-4e5a-954f-268793675ca8",
   "metadata": {},
   "outputs": [],
   "source": [
    "import numpy as np"
   ]
  },
  {
   "cell_type": "code",
   "execution_count": 5,
   "id": "663b6d83-bcc0-4c3c-bda3-49ff3332b000",
   "metadata": {
    "panel-layout": {
     "height": 0,
     "visible": true,
     "width": 100
    }
   },
   "outputs": [
    {
     "name": "stdout",
     "output_type": "stream",
     "text": [
      "[12 43  5  6  8 36 49  7  5 23]\n"
     ]
    }
   ],
   "source": [
    "# 1D array\n",
    "arr = np.array([12,43,5,6,8,36,49,7,5,23])\n",
    "print(arr)"
   ]
  },
  {
   "cell_type": "code",
   "execution_count": 8,
   "id": "7c6a34a9-3e75-4e9a-9043-56694d201393",
   "metadata": {
    "panel-layout": {
     "height": 44.275001525878906,
     "visible": true,
     "width": 100
    }
   },
   "outputs": [
    {
     "data": {
      "text/plain": [
       "array([[1, 2, 3],\n",
       "       [4, 5, 6]])"
      ]
     },
     "execution_count": 8,
     "metadata": {},
     "output_type": "execute_result"
    }
   ],
   "source": [
    "# Multi-dimensional array:\n",
    "arrmd = np.array([[1,2,3],[4,5,6]])\n",
    "arrmd"
   ]
  },
  {
   "cell_type": "code",
   "execution_count": 32,
   "id": "83f391c3-51aa-49dd-a4c5-467a06cf5f48",
   "metadata": {
    "panel-layout": {
     "height": 27.137500762939453,
     "visible": true,
     "width": 100
    }
   },
   "outputs": [
    {
     "data": {
      "text/plain": [
       "dtype('int64')"
      ]
     },
     "execution_count": 32,
     "metadata": {},
     "output_type": "execute_result"
    }
   ],
   "source": [
    "arrmd.dtype"
   ]
  },
  {
   "cell_type": "code",
   "execution_count": 33,
   "id": "c8d35885-a875-4b08-b18c-d83615649b4a",
   "metadata": {},
   "outputs": [],
   "source": [
    "#  BASIC 1D ARRAY SLICING"
   ]
  },
  {
   "cell_type": "code",
   "execution_count": 34,
   "id": "06b4887e-eaa1-42a9-b9b6-e8fd6cbc4d41",
   "metadata": {
    "panel-layout": {
     "height": 0,
     "visible": true,
     "width": 100
    }
   },
   "outputs": [
    {
     "name": "stdout",
     "output_type": "stream",
     "text": [
      "[12 43  5  6]\n"
     ]
    }
   ],
   "source": [
    "# Syntax: arr[start : stop : step]\n",
    "\n",
    "print(arr[:4])"
   ]
  },
  {
   "cell_type": "code",
   "execution_count": 35,
   "id": "5da6aeb8-1369-4ac9-8ed5-1fb46cc6d787",
   "metadata": {
    "panel-layout": {
     "height": 0,
     "visible": true,
     "width": 100
    }
   },
   "outputs": [
    {
     "name": "stdout",
     "output_type": "stream",
     "text": [
      "[12 43  5  6  8 36 49  7  5 23]\n"
     ]
    }
   ],
   "source": [
    "print(arr[:])"
   ]
  },
  {
   "cell_type": "code",
   "execution_count": 36,
   "id": "108b2a3c-40e7-4f0b-994a-1085c82cd557",
   "metadata": {
    "panel-layout": {
     "height": 0,
     "visible": true,
     "width": 100
    }
   },
   "outputs": [
    {
     "name": "stdout",
     "output_type": "stream",
     "text": [
      "[12  5  8 49  5]\n"
     ]
    }
   ],
   "source": [
    "print(arr[::2])"
   ]
  },
  {
   "cell_type": "code",
   "execution_count": 37,
   "id": "aa5043a5-af84-4698-b0bd-780367c80c94",
   "metadata": {
    "panel-layout": {
     "height": 0,
     "visible": true,
     "width": 100
    }
   },
   "outputs": [
    {
     "name": "stdout",
     "output_type": "stream",
     "text": [
      "[ 7  5 23]\n"
     ]
    }
   ],
   "source": [
    "print(arr[-3:])"
   ]
  },
  {
   "cell_type": "code",
   "execution_count": 38,
   "id": "d3e4004a-9710-4ed6-ab2d-c8264943f93e",
   "metadata": {
    "panel-layout": {
     "height": 0,
     "visible": true,
     "width": 100
    }
   },
   "outputs": [
    {
     "name": "stdout",
     "output_type": "stream",
     "text": [
      "[ 7 49 36  8  6  5 43]\n"
     ]
    }
   ],
   "source": [
    "# reverse the slice\n",
    "print(arr[-3:0:-1])"
   ]
  },
  {
   "cell_type": "code",
   "execution_count": 39,
   "id": "83dddb45-93ed-4687-9e80-5ec6dfa1fb54",
   "metadata": {
    "panel-layout": {
     "height": 0,
     "visible": true,
     "width": 100
    }
   },
   "outputs": [
    {
     "name": "stdout",
     "output_type": "stream",
     "text": [
      "[43  6]\n"
     ]
    }
   ],
   "source": [
    "print(arr[-9:4:2])"
   ]
  },
  {
   "cell_type": "code",
   "execution_count": 40,
   "id": "df7e63c8-a94f-4b2d-9e7a-8164a87d89a2",
   "metadata": {
    "panel-layout": {
     "height": -2.384185791015625e-05,
     "visible": true,
     "width": 100
    }
   },
   "outputs": [
    {
     "name": "stdout",
     "output_type": "stream",
     "text": [
      "[]\n"
     ]
    }
   ],
   "source": [
    "print(arr[-4:4:2])"
   ]
  },
  {
   "cell_type": "code",
   "execution_count": null,
   "id": "3683f842-f3e8-47c2-aaa6-f0e608adf0df",
   "metadata": {},
   "outputs": [],
   "source": [
    "#  MULTIDIMESIONAL NumPy ARRAY SLICING"
   ]
  },
  {
   "cell_type": "code",
   "execution_count": 16,
   "id": "301510bc-51b2-4982-9762-d5148f5c84aa",
   "metadata": {
    "panel-layout": {
     "height": 44.275001525878906,
     "visible": true,
     "width": 100
    }
   },
   "outputs": [
    {
     "data": {
      "text/plain": [
       "array([[1, 2, 3],\n",
       "       [4, 5, 6]])"
      ]
     },
     "execution_count": 16,
     "metadata": {},
     "output_type": "execute_result"
    }
   ],
   "source": [
    "arrmd"
   ]
  },
  {
   "cell_type": "code",
   "execution_count": 17,
   "id": "52e93c09-ab41-43e3-9051-8913a31761d5",
   "metadata": {
    "panel-layout": {
     "height": 0,
     "visible": true,
     "width": 100
    }
   },
   "outputs": [
    {
     "name": "stdout",
     "output_type": "stream",
     "text": [
      "[[1 2 3]\n",
      " [4 5 6]]\n"
     ]
    }
   ],
   "source": [
    "print(arrmd[0:2:1])"
   ]
  },
  {
   "cell_type": "code",
   "execution_count": 18,
   "id": "70ce957a-7d2e-477f-8745-2b502add4131",
   "metadata": {
    "panel-layout": {
     "height": 0,
     "visible": true,
     "width": 100
    }
   },
   "outputs": [
    {
     "name": "stdout",
     "output_type": "stream",
     "text": [
      "[[1 2]\n",
      " [4 5]]\n"
     ]
    }
   ],
   "source": [
    "# Get all rows, first two columns\n",
    "print(arrmd[:, 0:2])"
   ]
  },
  {
   "cell_type": "code",
   "execution_count": 19,
   "id": "a2c46a84-990a-413a-8576-0ebc21f65854",
   "metadata": {
    "panel-layout": {
     "height": 0,
     "visible": true,
     "width": 100
    }
   },
   "outputs": [
    {
     "name": "stdout",
     "output_type": "stream",
     "text": [
      "[[4 5 6]\n",
      " [1 2 3]]\n"
     ]
    }
   ],
   "source": [
    "# Reverse all rows\n",
    "print(arrmd[::-1,:])\n"
   ]
  },
  {
   "cell_type": "code",
   "execution_count": 20,
   "id": "41cf7a0c-6c24-42de-a94c-6d5cde59ef8d",
   "metadata": {
    "panel-layout": {
     "height": 0,
     "visible": true,
     "width": 100
    }
   },
   "outputs": [
    {
     "name": "stdout",
     "output_type": "stream",
     "text": [
      "[[3 2 1]\n",
      " [6 5 4]]\n"
     ]
    }
   ],
   "source": [
    "# Reverse all columns\n",
    "print(arrmd[:,::-1])\n"
   ]
  },
  {
   "cell_type": "code",
   "execution_count": 21,
   "id": "c617f895-eaf2-457c-9d98-8b49dad62dd1",
   "metadata": {
    "panel-layout": {
     "height": 27.137500762939453,
     "visible": true,
     "width": 100
    }
   },
   "outputs": [
    {
     "data": {
      "text/plain": [
       "array([1, 5])"
      ]
     },
     "execution_count": 21,
     "metadata": {},
     "output_type": "execute_result"
    }
   ],
   "source": [
    "# Get diagonal elements\n",
    "np.diag(arrmd)"
   ]
  },
  {
   "cell_type": "code",
   "execution_count": 22,
   "id": "88af36ad-17ea-4727-b2eb-c93d5f79d482",
   "metadata": {
    "panel-layout": {
     "height": 27.137500762939453,
     "visible": true,
     "width": 100
    }
   },
   "outputs": [
    {
     "data": {
      "text/plain": [
       "array([4, 5, 6])"
      ]
     },
     "execution_count": 22,
     "metadata": {},
     "output_type": "execute_result"
    }
   ],
   "source": [
    "# Get last row\n",
    "arrmd[-1, :]\n"
   ]
  },
  {
   "cell_type": "code",
   "execution_count": null,
   "id": "13a5c3ab-72dc-470a-b88d-8b685c9d2522",
   "metadata": {},
   "outputs": [],
   "source": [
    "#  reshaping in NumPy array"
   ]
  },
  {
   "cell_type": "code",
   "execution_count": 24,
   "id": "acc0b0a7-b2e3-4a4a-9ca4-5a592770607b",
   "metadata": {},
   "outputs": [
    {
     "name": "stdout",
     "output_type": "stream",
     "text": [
      "[[11  2 30]\n",
      " [42 52  6]]\n"
     ]
    }
   ],
   "source": [
    "arr1 = np.array([11, 2, 30, 42, 52, 6])\n",
    "reshaped = arr1.reshape(2,3)\n",
    "print(reshaped)\n",
    "      "
   ]
  },
  {
   "cell_type": "code",
   "execution_count": 25,
   "id": "7f8838ee-10f9-4744-a2ff-c03c378be100",
   "metadata": {
    "panel-layout": {
     "height": 0,
     "visible": true,
     "width": 100
    }
   },
   "outputs": [
    {
     "name": "stdout",
     "output_type": "stream",
     "text": [
      "[11  2 30 42 52  6]\n"
     ]
    }
   ],
   "source": [
    " # or arr2.flatten()\n",
    "arr2 =  np.array([[11,2,30],[42,52,6]])\n",
    "flattened = arr2.reshape(-1) \n",
    "print(flattened)"
   ]
  },
  {
   "cell_type": "code",
   "execution_count": 27,
   "id": "85603918-4791-4346-869e-f3bd6a790446",
   "metadata": {
    "panel-layout": {
     "height": 0,
     "visible": true,
     "width": 100
    }
   },
   "outputs": [
    {
     "name": "stdout",
     "output_type": "stream",
     "text": [
      "[[11  2]\n",
      " [30 42]\n",
      " [52  6]]\n"
     ]
    }
   ],
   "source": [
    "# Using -1 in reshape (Auto-calculate size)\n",
    "reshaped = arr1.reshape(3, -1) \n",
    "print(reshaped)"
   ]
  },
  {
   "cell_type": "code",
   "execution_count": 28,
   "id": "74e5fe02-fea4-4e1f-9e14-61df2a810b95",
   "metadata": {
    "panel-layout": {
     "height": 0,
     "visible": true,
     "width": 100
    }
   },
   "outputs": [
    {
     "name": "stdout",
     "output_type": "stream",
     "text": [
      "[[[1 2]\n",
      "  [3 4]]\n",
      "\n",
      " [[5 6]\n",
      "  [7 8]]]\n"
     ]
    }
   ],
   "source": [
    "arr3 = np.array([1, 2, 3, 4, 5, 6, 7, 8])\n",
    "reshaped = arr3.reshape(2, 2, 2)\n",
    "print(reshaped)"
   ]
  },
  {
   "cell_type": "code",
   "execution_count": null,
   "id": "3779fc86-1b1e-4296-8426-90c305fa3351",
   "metadata": {},
   "outputs": [],
   "source": [
    "#  Broadcast"
   ]
  },
  {
   "cell_type": "code",
   "execution_count": 29,
   "id": "baf51f18-c6dc-49fc-ac74-c57b231f1d69",
   "metadata": {
    "panel-layout": {
     "height": 4.863739013671875e-05,
     "visible": true,
     "width": 100
    }
   },
   "outputs": [
    {
     "name": "stdout",
     "output_type": "stream",
     "text": [
      "[2 3 4]\n"
     ]
    }
   ],
   "source": [
    "a = np.array([1, 2, 3])     \n",
    "b = 1\n",
    "\n",
    "result = a + b              \n",
    "print(result)"
   ]
  },
  {
   "cell_type": "code",
   "execution_count": 30,
   "id": "6dbef95b-cb9f-440c-903f-55ed3c83bdf1",
   "metadata": {
    "panel-layout": {
     "height": 0,
     "visible": true,
     "width": 100
    }
   },
   "outputs": [
    {
     "name": "stdout",
     "output_type": "stream",
     "text": [
      "[[41 42 43]\n",
      " [21 22 23]\n",
      " [11 12 13]]\n"
     ]
    }
   ],
   "source": [
    "c = np.array([[1, 2, 3]])     \n",
    "d = np.array([[40],\n",
    "              [20],\n",
    "              [10]])         \n",
    "\n",
    "result = c + d\n",
    "print(result)"
   ]
  },
  {
   "cell_type": "code",
   "execution_count": 31,
   "id": "59ae95b2-17cd-49e5-976e-e8513e69018c",
   "metadata": {
    "panel-layout": {
     "height": 0,
     "visible": true,
     "width": 100
    }
   },
   "outputs": [
    {
     "name": "stdout",
     "output_type": "stream",
     "text": [
      "[[51 52 53]\n",
      " [31 32 33]\n",
      " [21 22 23]]\n"
     ]
    }
   ],
   "source": [
    "print(result + 10)"
   ]
  },
  {
   "cell_type": "markdown",
   "id": "69f7b5a4-9d56-4704-bbd7-be79c5f05328",
   "metadata": {
    "panel-layout": {
     "height": 10,
     "visible": true,
     "width": 100
    }
   },
   "source": []
  }
 ],
 "metadata": {
  "kernelspec": {
   "display_name": "Python [conda env:base] *",
   "language": "python",
   "name": "conda-base-py"
  },
  "language_info": {
   "codemirror_mode": {
    "name": "ipython",
    "version": 3
   },
   "file_extension": ".py",
   "mimetype": "text/x-python",
   "name": "python",
   "nbconvert_exporter": "python",
   "pygments_lexer": "ipython3",
   "version": "3.13.5"
  },
  "panel-cell-order": [
   "663b6d83-bcc0-4c3c-bda3-49ff3332b000",
   "7c6a34a9-3e75-4e9a-9043-56694d201393",
   "83f391c3-51aa-49dd-a4c5-467a06cf5f48",
   "06b4887e-eaa1-42a9-b9b6-e8fd6cbc4d41",
   "5da6aeb8-1369-4ac9-8ed5-1fb46cc6d787",
   "108b2a3c-40e7-4f0b-994a-1085c82cd557",
   "aa5043a5-af84-4698-b0bd-780367c80c94",
   "d3e4004a-9710-4ed6-ab2d-c8264943f93e",
   "83dddb45-93ed-4687-9e80-5ec6dfa1fb54",
   "df7e63c8-a94f-4b2d-9e7a-8164a87d89a2",
   "301510bc-51b2-4982-9762-d5148f5c84aa",
   "52e93c09-ab41-43e3-9051-8913a31761d5",
   "70ce957a-7d2e-477f-8745-2b502add4131",
   "a2c46a84-990a-413a-8576-0ebc21f65854",
   "41cf7a0c-6c24-42de-a94c-6d5cde59ef8d",
   "c617f895-eaf2-457c-9d98-8b49dad62dd1",
   "88af36ad-17ea-4727-b2eb-c93d5f79d482",
   "7f8838ee-10f9-4744-a2ff-c03c378be100",
   "85603918-4791-4346-869e-f3bd6a790446",
   "74e5fe02-fea4-4e1f-9e14-61df2a810b95",
   "baf51f18-c6dc-49fc-ac74-c57b231f1d69",
   "6dbef95b-cb9f-440c-903f-55ed3c83bdf1",
   "59ae95b2-17cd-49e5-976e-e8513e69018c",
   "69f7b5a4-9d56-4704-bbd7-be79c5f05328"
  ]
 },
 "nbformat": 4,
 "nbformat_minor": 5
}
